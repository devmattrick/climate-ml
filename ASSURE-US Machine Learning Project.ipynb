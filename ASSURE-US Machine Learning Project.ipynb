{
 "cells": [
  {
   "cell_type": "markdown",
   "metadata": {},
   "source": [
    "# ASSURE-US Machine Learning Project - Climate Change"
   ]
  },
  {
   "cell_type": "markdown",
   "metadata": {},
   "source": [
    "Data used:\n",
    "* http://scrippsco2.ucsd.edu/data/atmospheric_co2/icecore_merged_products\n",
    "* https://data.giss.nasa.gov/gistemp/\n",
    "* ftp://ftp.ncdc.noaa.gov/pub/data/paleo/icecore/antarctica/law/law2006.txt"
   ]
  },
  {
   "cell_type": "code",
   "execution_count": 202,
   "metadata": {},
   "outputs": [],
   "source": [
    "MONTH_DICT = {\n",
    "    \"Jan\": 1, \"Feb\": 2, \"Mar\": 3, \"Apr\": 4, \"May\": 5, \"Jun\": 6, \"Jul\": 7, \"Aug\": 8, \"Sep\": 9, \"Oct\": 10, \"Nov\":11, \"Dec\": 12\n",
    "}\n",
    "\n",
    "BASE_TEMP = 14 # See: https://data.giss.nasa.gov/gistemp/faq/abs_temp.html"
   ]
  },
  {
   "cell_type": "code",
   "execution_count": 203,
   "metadata": {},
   "outputs": [
    {
     "name": "stdout",
     "output_type": "stream",
     "text": [
      "1.13.1\n"
     ]
    }
   ],
   "source": [
    "import tensorflow as tf\n",
    "from tensorflow import keras\n",
    "\n",
    "import matplotlib.pyplot as plt\n",
    "import pandas as pd\n",
    "import numpy as np\n",
    "\n",
    "print(tf.VERSION)"
   ]
  },
  {
   "cell_type": "code",
   "execution_count": 204,
   "metadata": {},
   "outputs": [
    {
     "data": {
      "text/html": [
       "<div>\n",
       "<style scoped>\n",
       "    .dataframe tbody tr th:only-of-type {\n",
       "        vertical-align: middle;\n",
       "    }\n",
       "\n",
       "    .dataframe tbody tr th {\n",
       "        vertical-align: top;\n",
       "    }\n",
       "\n",
       "    .dataframe thead th {\n",
       "        text-align: right;\n",
       "    }\n",
       "</style>\n",
       "<table border=\"1\" class=\"dataframe\">\n",
       "  <thead>\n",
       "    <tr style=\"text-align: right;\">\n",
       "      <th></th>\n",
       "      <th>Year</th>\n",
       "      <th>Month</th>\n",
       "      <th>Temp</th>\n",
       "    </tr>\n",
       "  </thead>\n",
       "  <tbody>\n",
       "    <tr>\n",
       "      <th>1667</th>\n",
       "      <td>2018</td>\n",
       "      <td>12</td>\n",
       "      <td>14.89</td>\n",
       "    </tr>\n",
       "    <tr>\n",
       "      <th>1668</th>\n",
       "      <td>2019</td>\n",
       "      <td>1</td>\n",
       "      <td>14.87</td>\n",
       "    </tr>\n",
       "    <tr>\n",
       "      <th>1669</th>\n",
       "      <td>2019</td>\n",
       "      <td>2</td>\n",
       "      <td>14.90</td>\n",
       "    </tr>\n",
       "    <tr>\n",
       "      <th>1670</th>\n",
       "      <td>2019</td>\n",
       "      <td>3</td>\n",
       "      <td>15.11</td>\n",
       "    </tr>\n",
       "    <tr>\n",
       "      <th>1671</th>\n",
       "      <td>2019</td>\n",
       "      <td>4</td>\n",
       "      <td>14.99</td>\n",
       "    </tr>\n",
       "  </tbody>\n",
       "</table>\n",
       "</div>"
      ],
      "text/plain": [
       "      Year  Month   Temp\n",
       "1667  2018     12  14.89\n",
       "1668  2019      1  14.87\n",
       "1669  2019      2  14.90\n",
       "1670  2019      3  15.11\n",
       "1671  2019      4  14.99"
      ]
     },
     "execution_count": 204,
     "metadata": {},
     "output_type": "execute_result"
    }
   ],
   "source": [
    "dataset = pd.read_csv(\n",
    "    \"./data/GLB.Ts+dSST.csv\",\n",
    "    \",\",\n",
    "    na_values=[\"***\"],\n",
    "    skiprows=1,\n",
    "    usecols=[\"Jan\", \"Feb\", \"Mar\", \"Apr\", \"May\", \"Jun\", \"Jul\", \"Aug\", \"Sep\", \"Oct\", \"Nov\", \"Dec\", \"Year\"]\n",
    ")\n",
    "\n",
    "# Duplicate rows for each month\n",
    "dataset = dataset.melt(id_vars=[\"Year\"], var_name=\"Month\", value_name=\"Temp\")\n",
    "\n",
    "# Convert month names into numeric values\n",
    "dataset[\"Month\"] = dataset[\"Month\"].map(MONTH_DICT)\n",
    "\n",
    "# Sort by year and then month\n",
    "dataset = dataset.sort_values([\"Year\", \"Month\"])\n",
    "dataset = dataset.reset_index(drop=True)\n",
    "\n",
    "# Clean up dataset\n",
    "dataset = dataset.dropna()\n",
    "\n",
    "# Convert to absolute temperatures (GISS works in temperature anomaly)\n",
    "dataset[\"Temp\"] = dataset[\"Temp\"].add(BASE_TEMP)\n",
    "\n",
    "dataset.tail()"
   ]
  },
  {
   "cell_type": "code",
   "execution_count": 205,
   "metadata": {},
   "outputs": [
    {
     "data": {
      "text/html": [
       "<div>\n",
       "<style scoped>\n",
       "    .dataframe tbody tr th:only-of-type {\n",
       "        vertical-align: middle;\n",
       "    }\n",
       "\n",
       "    .dataframe tbody tr th {\n",
       "        vertical-align: top;\n",
       "    }\n",
       "\n",
       "    .dataframe thead th {\n",
       "        text-align: right;\n",
       "    }\n",
       "</style>\n",
       "<table border=\"1\" class=\"dataframe\">\n",
       "  <thead>\n",
       "    <tr style=\"text-align: right;\">\n",
       "      <th></th>\n",
       "      <th>Month</th>\n",
       "      <th>Year</th>\n",
       "      <th>CO2</th>\n",
       "    </tr>\n",
       "  </thead>\n",
       "  <tbody>\n",
       "    <tr>\n",
       "      <th>48897</th>\n",
       "      <td>10</td>\n",
       "      <td>2018</td>\n",
       "      <td>406.40</td>\n",
       "    </tr>\n",
       "    <tr>\n",
       "      <th>48898</th>\n",
       "      <td>11</td>\n",
       "      <td>2018</td>\n",
       "      <td>407.88</td>\n",
       "    </tr>\n",
       "    <tr>\n",
       "      <th>48899</th>\n",
       "      <td>12</td>\n",
       "      <td>2018</td>\n",
       "      <td>408.98</td>\n",
       "    </tr>\n",
       "    <tr>\n",
       "      <th>48900</th>\n",
       "      <td>1</td>\n",
       "      <td>2019</td>\n",
       "      <td>409.82</td>\n",
       "    </tr>\n",
       "    <tr>\n",
       "      <th>48901</th>\n",
       "      <td>2</td>\n",
       "      <td>2019</td>\n",
       "      <td>410.60</td>\n",
       "    </tr>\n",
       "  </tbody>\n",
       "</table>\n",
       "</div>"
      ],
      "text/plain": [
       "       Month  Year     CO2\n",
       "48897     10  2018  406.40\n",
       "48898     11  2018  407.88\n",
       "48899     12  2018  408.98\n",
       "48900      1  2019  409.82\n",
       "48901      2  2019  410.60"
      ]
     },
     "execution_count": 205,
     "metadata": {},
     "output_type": "execute_result"
    }
   ],
   "source": [
    "# Load information about CO2 concentration\n",
    "co2_data = pd.read_csv(\n",
    "    \"./data/co2_mm_gl.txt\",\n",
    "    delim_whitespace=True,\n",
    "    comment='#',\n",
    "    names=[\"Year\", \"Month\", \"CO2\"],\n",
    "    na_values=[-99.99],\n",
    "    usecols=[0, 1, 3]\n",
    ")\n",
    "\n",
    "# Load lower resolution (yearly instead of monthly) data to fill in previous years\n",
    "co2_old_data = pd.read_csv(\n",
    "    \"./data/spline_merged_ice_core_yearly.csv\",\n",
    "    comment=\"\\\"\",\n",
    "    names=[\"Year\", \"CO2\"]\n",
    ")\n",
    "co2_old_data = co2_old_data.loc[co2_old_data.index.repeat(12)].reset_index(drop=True)\n",
    "co2_old_data.insert(0, \"Month\", (co2_old_data.index % 12) + 1)\n",
    "\n",
    "# Merge the old data with the new data: https://stackoverflow.com/a/44784056\n",
    "co2_data = pd.concat([co2_old_data, co2_old_data, co2_data], axis=0, sort=False)\n",
    "co2_data = co2_data.reset_index(drop=True)\n",
    "\n",
    "co2_data.tail()"
   ]
  },
  {
   "cell_type": "code",
   "execution_count": 206,
   "metadata": {},
   "outputs": [
    {
     "data": {
      "text/html": [
       "<div>\n",
       "<style scoped>\n",
       "    .dataframe tbody tr th:only-of-type {\n",
       "        vertical-align: middle;\n",
       "    }\n",
       "\n",
       "    .dataframe tbody tr th {\n",
       "        vertical-align: top;\n",
       "    }\n",
       "\n",
       "    .dataframe thead th {\n",
       "        text-align: right;\n",
       "    }\n",
       "</style>\n",
       "<table border=\"1\" class=\"dataframe\">\n",
       "  <thead>\n",
       "    <tr style=\"text-align: right;\">\n",
       "      <th></th>\n",
       "      <th>Month</th>\n",
       "      <th>Year</th>\n",
       "      <th>CH4</th>\n",
       "    </tr>\n",
       "  </thead>\n",
       "  <tbody>\n",
       "    <tr>\n",
       "      <th>48518</th>\n",
       "      <td>9</td>\n",
       "      <td>2018</td>\n",
       "      <td>1860.4</td>\n",
       "    </tr>\n",
       "    <tr>\n",
       "      <th>48519</th>\n",
       "      <td>10</td>\n",
       "      <td>2018</td>\n",
       "      <td>1865.7</td>\n",
       "    </tr>\n",
       "    <tr>\n",
       "      <th>48520</th>\n",
       "      <td>11</td>\n",
       "      <td>2018</td>\n",
       "      <td>1866.6</td>\n",
       "    </tr>\n",
       "    <tr>\n",
       "      <th>48521</th>\n",
       "      <td>12</td>\n",
       "      <td>2018</td>\n",
       "      <td>1866.8</td>\n",
       "    </tr>\n",
       "    <tr>\n",
       "      <th>48522</th>\n",
       "      <td>1</td>\n",
       "      <td>2019</td>\n",
       "      <td>1866.1</td>\n",
       "    </tr>\n",
       "  </tbody>\n",
       "</table>\n",
       "</div>"
      ],
      "text/plain": [
       "       Month  Year     CH4\n",
       "48518      9  2018  1860.4\n",
       "48519     10  2018  1865.7\n",
       "48520     11  2018  1866.6\n",
       "48521     12  2018  1866.8\n",
       "48522      1  2019  1866.1"
      ]
     },
     "execution_count": 206,
     "metadata": {},
     "output_type": "execute_result"
    }
   ],
   "source": [
    "# Load information about CH4 concentration\n",
    "ch4_data = pd.read_csv(\n",
    "    \"./data/ch4_mm_gl.txt\",\n",
    "    delim_whitespace=True,\n",
    "    comment='#',\n",
    "    names=[\"Year\", \"Month\", \"CH4\"],\n",
    "    na_values=[-99.99],\n",
    "    usecols=[0, 1, 3]\n",
    ")\n",
    "\n",
    "ch4_old_data = pd.read_csv(\n",
    "    \"./data/law2006.txt\",\n",
    "    delim_whitespace=True,\n",
    "    usecols=[\"YearAD\", \"CH4spl\"]\n",
    ")\n",
    "ch4_old_data.columns = [\"Year\", \"CH4\"]\n",
    "ch4_old_data = ch4_old_data.loc[ch4_old_data.index.repeat(12)].reset_index(drop=True)\n",
    "ch4_old_data.insert(0, \"Month\", (ch4_old_data.index % 12) + 1)\n",
    "\n",
    "ch4_data = pd.concat([ch4_old_data, ch4_old_data, ch4_data], axis=0, sort=False)\n",
    "ch4_data = ch4_data.reset_index(drop=True)\n",
    "\n",
    "ch4_data.tail()"
   ]
  },
  {
   "cell_type": "code",
   "execution_count": 207,
   "metadata": {
    "scrolled": true
   },
   "outputs": [
    {
     "data": {
      "text/html": [
       "<div>\n",
       "<style scoped>\n",
       "    .dataframe tbody tr th:only-of-type {\n",
       "        vertical-align: middle;\n",
       "    }\n",
       "\n",
       "    .dataframe tbody tr th {\n",
       "        vertical-align: top;\n",
       "    }\n",
       "\n",
       "    .dataframe thead th {\n",
       "        text-align: right;\n",
       "    }\n",
       "</style>\n",
       "<table border=\"1\" class=\"dataframe\">\n",
       "  <thead>\n",
       "    <tr style=\"text-align: right;\">\n",
       "      <th></th>\n",
       "      <th>Year</th>\n",
       "      <th>Month</th>\n",
       "      <th>Temp</th>\n",
       "      <th>CO2</th>\n",
       "      <th>CH4</th>\n",
       "    </tr>\n",
       "  </thead>\n",
       "  <tbody>\n",
       "    <tr>\n",
       "      <th>7874</th>\n",
       "      <td>2018</td>\n",
       "      <td>11</td>\n",
       "      <td>14.78</td>\n",
       "      <td>407.880</td>\n",
       "      <td>1866.6</td>\n",
       "    </tr>\n",
       "    <tr>\n",
       "      <th>7875</th>\n",
       "      <td>2018</td>\n",
       "      <td>12</td>\n",
       "      <td>14.89</td>\n",
       "      <td>405.385</td>\n",
       "      <td>1866.8</td>\n",
       "    </tr>\n",
       "    <tr>\n",
       "      <th>7876</th>\n",
       "      <td>2018</td>\n",
       "      <td>12</td>\n",
       "      <td>14.89</td>\n",
       "      <td>405.385</td>\n",
       "      <td>1866.8</td>\n",
       "    </tr>\n",
       "    <tr>\n",
       "      <th>7877</th>\n",
       "      <td>2018</td>\n",
       "      <td>12</td>\n",
       "      <td>14.89</td>\n",
       "      <td>408.980</td>\n",
       "      <td>1866.8</td>\n",
       "    </tr>\n",
       "    <tr>\n",
       "      <th>7878</th>\n",
       "      <td>2019</td>\n",
       "      <td>1</td>\n",
       "      <td>14.87</td>\n",
       "      <td>409.820</td>\n",
       "      <td>1866.1</td>\n",
       "    </tr>\n",
       "  </tbody>\n",
       "</table>\n",
       "</div>"
      ],
      "text/plain": [
       "      Year  Month   Temp      CO2     CH4\n",
       "7874  2018     11  14.78  407.880  1866.6\n",
       "7875  2018     12  14.89  405.385  1866.8\n",
       "7876  2018     12  14.89  405.385  1866.8\n",
       "7877  2018     12  14.89  408.980  1866.8\n",
       "7878  2019      1  14.87  409.820  1866.1"
      ]
     },
     "execution_count": 207,
     "metadata": {},
     "output_type": "execute_result"
    }
   ],
   "source": [
    "# Merge in CO2 and CH4 data\n",
    "dataset = dataset.merge(co2_data, on=[\"Year\", \"Month\"])\n",
    "dataset = dataset.merge(ch4_data, on=[\"Year\", \"Month\"])\n",
    "    \n",
    "dataset.tail()"
   ]
  },
  {
   "cell_type": "code",
   "execution_count": null,
   "metadata": {},
   "outputs": [],
   "source": [
    "train_dataset = dataset.sample(frac=0.8)\n",
    "test_dataset = dataset.drop(train_dataset.index)"
   ]
  },
  {
   "cell_type": "code",
   "execution_count": null,
   "metadata": {},
   "outputs": [],
   "source": [
    "train_stats = train_dataset.describe()\n",
    "train_stats.pop(\"Temp\")\n",
    "train_stats = train_stats.transpose()\n",
    "train_stats"
   ]
  },
  {
   "cell_type": "code",
   "execution_count": null,
   "metadata": {},
   "outputs": [],
   "source": [
    "train_labels = train_dataset.pop(\"Temp\")\n",
    "test_labels = test_dataset.pop(\"Temp\")"
   ]
  },
  {
   "cell_type": "code",
   "execution_count": null,
   "metadata": {},
   "outputs": [],
   "source": [
    "def norm(x):\n",
    "  return (x - train_stats['mean']) / train_stats['std']\n",
    "normed_train_data = norm(train_dataset)\n",
    "normed_test_data = norm(test_dataset)"
   ]
  },
  {
   "cell_type": "code",
   "execution_count": null,
   "metadata": {},
   "outputs": [],
   "source": [
    "def build_model():\n",
    "  model = keras.Sequential([\n",
    "    keras.layers.Dense(64, activation=tf.nn.relu, input_shape=[len(train_dataset.keys())]),\n",
    "    keras.layers.Dense(64, activation=tf.nn.relu),\n",
    "    keras.layers.Dense(1)\n",
    "  ])\n",
    "\n",
    "  optimizer = tf.keras.optimizers.RMSprop(0.001)\n",
    "\n",
    "  model.compile(loss='mean_squared_error',\n",
    "                optimizer=optimizer,\n",
    "                metrics=['mean_absolute_error', 'mean_squared_error'])\n",
    "  return model"
   ]
  },
  {
   "cell_type": "code",
   "execution_count": null,
   "metadata": {},
   "outputs": [],
   "source": [
    "model = build_model()"
   ]
  },
  {
   "cell_type": "code",
   "execution_count": null,
   "metadata": {},
   "outputs": [],
   "source": [
    "def plot_history(history):\n",
    "  hist = pd.DataFrame(history.history)\n",
    "  hist['epoch'] = history.epoch\n",
    "  \n",
    "  plt.figure()\n",
    "  plt.xlabel('Epoch')\n",
    "  plt.ylabel('Mean Square Error [$Temp^2$]')\n",
    "  plt.plot(hist['epoch'], hist['mean_squared_error'],\n",
    "           label='Train Error')\n",
    "  plt.plot(hist['epoch'], hist['val_mean_squared_error'],\n",
    "           label = 'Val Error')\n",
    "  plt.ylim([0,2])\n",
    "  plt.legend()\n",
    "  plt.show()"
   ]
  },
  {
   "cell_type": "code",
   "execution_count": null,
   "metadata": {},
   "outputs": [],
   "source": [
    "class PrintDot(keras.callbacks.Callback):\n",
    "  def on_epoch_end(self, epoch, logs):\n",
    "    if epoch % 100 == 0: print('')\n",
    "    print('.', end='')\n",
    "\n",
    "EPOCHS = 1000\n",
    "\n",
    "model = build_model()\n",
    "\n",
    "early_stop = keras.callbacks.EarlyStopping(monitor='val_loss', patience=10)\n",
    "\n",
    "history = model.fit(normed_train_data, train_labels, epochs=EPOCHS,\n",
    "                    validation_split = 0.2, verbose=0, callbacks=[early_stop, PrintDot()])\n",
    "\n",
    "plot_history(history)"
   ]
  },
  {
   "cell_type": "code",
   "execution_count": null,
   "metadata": {},
   "outputs": [],
   "source": [
    "loss, mae, mse = model.evaluate(normed_test_data, test_labels, verbose=0)\n",
    "\n",
    "print(\"Testing set Mean Abs Error: {:5.2f} Temp\".format(mae))"
   ]
  },
  {
   "cell_type": "code",
   "execution_count": null,
   "metadata": {},
   "outputs": [],
   "source": [
    "test_predictions = model.predict(normed_test_data).flatten()\n",
    "\n",
    "plt.scatter(test_labels, test_predictions)\n",
    "plt.xlabel('True Values [Temp]')\n",
    "plt.ylabel('Predictions [Temp]')\n",
    "plt.axis('equal')\n",
    "plt.axis('square')\n",
    "plt.xlim([plt.xlim()[0], plt.xlim()[1]])\n",
    "plt.ylim([plt.ylim()[0], plt.ylim()[1]])\n",
    "_ = plt.plot([-100, 100], [-100, 100])"
   ]
  },
  {
   "cell_type": "code",
   "execution_count": null,
   "metadata": {},
   "outputs": [],
   "source": [
    "error = test_predictions - test_labels\n",
    "plt.hist(error, bins = 25)\n",
    "plt.xlabel(\"Prediction Error [Temp]\")\n",
    "_ = plt.ylabel(\"Count\")"
   ]
  },
  {
   "cell_type": "code",
   "execution_count": null,
   "metadata": {},
   "outputs": [],
   "source": []
  }
 ],
 "metadata": {
  "kernelspec": {
   "display_name": "Python 3",
   "language": "python",
   "name": "python3"
  },
  "language_info": {
   "codemirror_mode": {
    "name": "ipython",
    "version": 3
   },
   "file_extension": ".py",
   "mimetype": "text/x-python",
   "name": "python",
   "nbconvert_exporter": "python",
   "pygments_lexer": "ipython3",
   "version": "3.7.3"
  }
 },
 "nbformat": 4,
 "nbformat_minor": 2
}
