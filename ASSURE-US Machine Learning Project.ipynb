{
 "cells": [
  {
   "cell_type": "markdown",
   "metadata": {},
   "source": [
    "# ASSURE-US Machine Learning Project - Climate Change"
   ]
  },
  {
   "cell_type": "markdown",
   "metadata": {},
   "source": [
    "Data used:\n",
    "* http://scrippsco2.ucsd.edu/data/atmospheric_co2/icecore_merged_products\n",
    "* https://data.giss.nasa.gov/gistemp/\n",
    "* https://www.ncdc.noaa.gov/paleo-search/study/6252\n",
    "* ftp://ftp.ncdc.noaa.gov/pub/data/paleo/icecore/antarctica/law/law2006.txt\n",
    "* www.esrl.noaa.gov/gmd/ccgg/trends_ch4/\n",
    "* https://www.esrl.noaa.gov/gmd/ccgg/trends/global.html"
   ]
  },
  {
   "cell_type": "code",
   "execution_count": 1,
   "metadata": {},
   "outputs": [
    {
     "name": "stdout",
     "output_type": "stream",
     "text": [
      "1.13.1\n"
     ]
    }
   ],
   "source": [
    "import tensorflow as tf\n",
    "from tensorflow import keras\n",
    "\n",
    "import matplotlib.pyplot as plt\n",
    "import pandas as pd\n",
    "import numpy as np\n",
    "\n",
    "print(tf.VERSION)"
   ]
  },
  {
   "cell_type": "code",
   "execution_count": 2,
   "metadata": {},
   "outputs": [
    {
     "data": {
      "text/html": [
       "<div>\n",
       "<style scoped>\n",
       "    .dataframe tbody tr th:only-of-type {\n",
       "        vertical-align: middle;\n",
       "    }\n",
       "\n",
       "    .dataframe tbody tr th {\n",
       "        vertical-align: top;\n",
       "    }\n",
       "\n",
       "    .dataframe thead th {\n",
       "        text-align: right;\n",
       "    }\n",
       "</style>\n",
       "<table border=\"1\" class=\"dataframe\">\n",
       "  <thead>\n",
       "    <tr style=\"text-align: right;\">\n",
       "      <th></th>\n",
       "      <th>Year</th>\n",
       "      <th>Month</th>\n",
       "      <th>Temp</th>\n",
       "    </tr>\n",
       "  </thead>\n",
       "  <tbody>\n",
       "    <tr>\n",
       "      <th>18227</th>\n",
       "      <td>2018</td>\n",
       "      <td>12</td>\n",
       "      <td>14.89</td>\n",
       "    </tr>\n",
       "    <tr>\n",
       "      <th>18228</th>\n",
       "      <td>2019</td>\n",
       "      <td>1</td>\n",
       "      <td>14.87</td>\n",
       "    </tr>\n",
       "    <tr>\n",
       "      <th>18229</th>\n",
       "      <td>2019</td>\n",
       "      <td>2</td>\n",
       "      <td>14.90</td>\n",
       "    </tr>\n",
       "    <tr>\n",
       "      <th>18230</th>\n",
       "      <td>2019</td>\n",
       "      <td>3</td>\n",
       "      <td>15.11</td>\n",
       "    </tr>\n",
       "    <tr>\n",
       "      <th>18231</th>\n",
       "      <td>2019</td>\n",
       "      <td>4</td>\n",
       "      <td>14.99</td>\n",
       "    </tr>\n",
       "  </tbody>\n",
       "</table>\n",
       "</div>"
      ],
      "text/plain": [
       "       Year  Month   Temp\n",
       "18227  2018     12  14.89\n",
       "18228  2019      1  14.87\n",
       "18229  2019      2  14.90\n",
       "18230  2019      3  15.11\n",
       "18231  2019      4  14.99"
      ]
     },
     "execution_count": 2,
     "metadata": {},
     "output_type": "execute_result"
    }
   ],
   "source": [
    "dataset = pd.read_csv(\n",
    "    \"./data/GLB.Ts+dSST.csv\",\n",
    "    \",\",\n",
    "    na_values=[\"***\"],\n",
    "    skiprows=1,\n",
    "    usecols=[\"Jan\", \"Feb\", \"Mar\", \"Apr\", \"May\", \"Jun\", \"Jul\", \"Aug\", \"Sep\", \"Oct\", \"Nov\", \"Dec\", \"Year\"]\n",
    ")\n",
    "\n",
    "# Duplicate rows for each month\n",
    "dataset = dataset.melt(id_vars=[\"Year\"], var_name=\"Month\", value_name=\"Temp\")\n",
    "\n",
    "# Convert month names into numeric values\n",
    "MONTH_DICT = {\n",
    "    \"Jan\": 1, \"Feb\": 2, \"Mar\": 3, \"Apr\": 4, \"May\": 5, \"Jun\": 6, \"Jul\": 7, \"Aug\": 8, \"Sep\": 9, \"Oct\": 10, \"Nov\":11, \"Dec\": 12\n",
    "}\n",
    "\n",
    "dataset[\"Month\"] = dataset[\"Month\"].map(MONTH_DICT)\n",
    "\n",
    "# Sort by year and then month\n",
    "dataset = dataset.sort_values([\"Year\", \"Month\"])\n",
    "dataset = dataset.reset_index(drop=True)\n",
    "\n",
    "# Clean up dataset\n",
    "dataset = dataset.dropna()\n",
    "\n",
    "dataset_old = pd.read_csv(\n",
    "    \"./data/glcru_eiv_composite.csv\",\n",
    "    \",\",\n",
    "    na_values=[\"NaN\"],\n",
    "    names=[\"Year\", \"Temp\"],\n",
    "    usecols=[0, 1]\n",
    ")\n",
    "\n",
    "dataset_old = dataset_old.loc[dataset_old.index.repeat(12)].reset_index(drop=True)\n",
    "dataset_old.insert(0, \"Month\", (dataset_old.index % 12) + 1)\n",
    "\n",
    "dataset = pd.merge(dataset, dataset_old, on=[\"Year\", \"Month\"], how=\"outer\", suffixes=(\"\", \"_y\")).sort_values([\"Year\", \"Month\"])\n",
    "dataset[\"Temp\"] = dataset[\"Temp\"].fillna(dataset[\"Temp_y\"])\n",
    "del dataset[\"Temp_y\"]\n",
    "\n",
    "# Clean up dataset\n",
    "dataset = dataset.dropna()\n",
    "dataset = dataset.reset_index(drop=True)\n",
    "\n",
    "# Convert to absolute temperatures (GISS works in temperature anomaly)\n",
    "BASE_TEMP = 14 # See: https://data.giss.nasa.gov/gistemp/faq/abs_temp.html\n",
    "dataset[\"Temp\"] = dataset[\"Temp\"].add(BASE_TEMP)\n",
    "\n",
    "dataset.tail()"
   ]
  },
  {
   "cell_type": "code",
   "execution_count": 3,
   "metadata": {},
   "outputs": [
    {
     "data": {
      "text/html": [
       "<div>\n",
       "<style scoped>\n",
       "    .dataframe tbody tr th:only-of-type {\n",
       "        vertical-align: middle;\n",
       "    }\n",
       "\n",
       "    .dataframe tbody tr th {\n",
       "        vertical-align: top;\n",
       "    }\n",
       "\n",
       "    .dataframe thead th {\n",
       "        text-align: right;\n",
       "    }\n",
       "</style>\n",
       "<table border=\"1\" class=\"dataframe\">\n",
       "  <thead>\n",
       "    <tr style=\"text-align: right;\">\n",
       "      <th></th>\n",
       "      <th>Year</th>\n",
       "      <th>Month</th>\n",
       "      <th>CO2</th>\n",
       "    </tr>\n",
       "  </thead>\n",
       "  <tbody>\n",
       "    <tr>\n",
       "      <th>24213</th>\n",
       "      <td>2018</td>\n",
       "      <td>10</td>\n",
       "      <td>406.40</td>\n",
       "    </tr>\n",
       "    <tr>\n",
       "      <th>24214</th>\n",
       "      <td>2018</td>\n",
       "      <td>11</td>\n",
       "      <td>407.88</td>\n",
       "    </tr>\n",
       "    <tr>\n",
       "      <th>24215</th>\n",
       "      <td>2018</td>\n",
       "      <td>12</td>\n",
       "      <td>408.98</td>\n",
       "    </tr>\n",
       "    <tr>\n",
       "      <th>24216</th>\n",
       "      <td>2019</td>\n",
       "      <td>1</td>\n",
       "      <td>409.82</td>\n",
       "    </tr>\n",
       "    <tr>\n",
       "      <th>24217</th>\n",
       "      <td>2019</td>\n",
       "      <td>2</td>\n",
       "      <td>410.60</td>\n",
       "    </tr>\n",
       "  </tbody>\n",
       "</table>\n",
       "</div>"
      ],
      "text/plain": [
       "       Year  Month     CO2\n",
       "24213  2018     10  406.40\n",
       "24214  2018     11  407.88\n",
       "24215  2018     12  408.98\n",
       "24216  2019      1  409.82\n",
       "24217  2019      2  410.60"
      ]
     },
     "execution_count": 3,
     "metadata": {},
     "output_type": "execute_result"
    }
   ],
   "source": [
    "# Load information about CO2 concentration\n",
    "co2_data = pd.read_csv(\n",
    "    \"./data/co2_mm_gl.txt\",\n",
    "    delim_whitespace=True,\n",
    "    comment='#',\n",
    "    names=[\"Year\", \"Month\", \"CO2\"],\n",
    "    na_values=[-99.99],\n",
    "    usecols=[0, 1, 3]\n",
    ")\n",
    "\n",
    "# Load lower resolution (yearly instead of monthly) data to fill in previous years\n",
    "co2_old_data = pd.read_csv(\n",
    "    \"./data/spline_merged_ice_core_yearly.csv\",\n",
    "    comment=\"\\\"\",\n",
    "    names=[\"Year\", \"CO2\"]\n",
    ")\n",
    "co2_old_data = co2_old_data.loc[co2_old_data.index.repeat(12)].reset_index(drop=True)\n",
    "co2_old_data.insert(0, \"Month\", (co2_old_data.index % 12) + 1)\n",
    "\n",
    "# Merge old data with new data\n",
    "co2_data = pd.merge(co2_data, co2_old_data, on=[\"Year\", \"Month\"], how=\"outer\", suffixes=(\"\", \"_y\")).sort_values([\"Year\", \"Month\"])\n",
    "co2_data[\"CO2\"] = co2_data[\"CO2\"].fillna(co2_data[\"CO2_y\"])\n",
    "del co2_data[\"CO2_y\"]\n",
    "co2_data = co2_data.reset_index(drop=True)\n",
    "\n",
    "co2_data.tail()"
   ]
  },
  {
   "cell_type": "code",
   "execution_count": 4,
   "metadata": {},
   "outputs": [
    {
     "data": {
      "text/html": [
       "<div>\n",
       "<style scoped>\n",
       "    .dataframe tbody tr th:only-of-type {\n",
       "        vertical-align: middle;\n",
       "    }\n",
       "\n",
       "    .dataframe tbody tr th {\n",
       "        vertical-align: top;\n",
       "    }\n",
       "\n",
       "    .dataframe thead th {\n",
       "        text-align: right;\n",
       "    }\n",
       "</style>\n",
       "<table border=\"1\" class=\"dataframe\">\n",
       "  <thead>\n",
       "    <tr style=\"text-align: right;\">\n",
       "      <th></th>\n",
       "      <th>Year</th>\n",
       "      <th>Month</th>\n",
       "      <th>CH4</th>\n",
       "    </tr>\n",
       "  </thead>\n",
       "  <tbody>\n",
       "    <tr>\n",
       "      <th>24212</th>\n",
       "      <td>2018</td>\n",
       "      <td>9</td>\n",
       "      <td>1860.4</td>\n",
       "    </tr>\n",
       "    <tr>\n",
       "      <th>24213</th>\n",
       "      <td>2018</td>\n",
       "      <td>10</td>\n",
       "      <td>1865.7</td>\n",
       "    </tr>\n",
       "    <tr>\n",
       "      <th>24214</th>\n",
       "      <td>2018</td>\n",
       "      <td>11</td>\n",
       "      <td>1866.6</td>\n",
       "    </tr>\n",
       "    <tr>\n",
       "      <th>24215</th>\n",
       "      <td>2018</td>\n",
       "      <td>12</td>\n",
       "      <td>1866.8</td>\n",
       "    </tr>\n",
       "    <tr>\n",
       "      <th>24216</th>\n",
       "      <td>2019</td>\n",
       "      <td>1</td>\n",
       "      <td>1866.1</td>\n",
       "    </tr>\n",
       "  </tbody>\n",
       "</table>\n",
       "</div>"
      ],
      "text/plain": [
       "       Year  Month     CH4\n",
       "24212  2018      9  1860.4\n",
       "24213  2018     10  1865.7\n",
       "24214  2018     11  1866.6\n",
       "24215  2018     12  1866.8\n",
       "24216  2019      1  1866.1"
      ]
     },
     "execution_count": 4,
     "metadata": {},
     "output_type": "execute_result"
    }
   ],
   "source": [
    "# Load information about CH4 concentration (process similar to CO2)\n",
    "ch4_data = pd.read_csv(\n",
    "    \"./data/ch4_mm_gl.txt\",\n",
    "    delim_whitespace=True,\n",
    "    comment='#',\n",
    "    names=[\"Year\", \"Month\", \"CH4\"],\n",
    "    na_values=[-99.99],\n",
    "    usecols=[0, 1, 3]\n",
    ")\n",
    "\n",
    "ch4_old_data = pd.read_csv(\n",
    "    \"./data/law2006.txt\",\n",
    "    delim_whitespace=True,\n",
    "    usecols=[\"YearAD\", \"CH4spl\"]\n",
    ")\n",
    "ch4_old_data.columns = [\"Year\", \"CH4\"]\n",
    "ch4_old_data = ch4_old_data.loc[ch4_old_data.index.repeat(12)].reset_index(drop=True)\n",
    "ch4_old_data.insert(0, \"Month\", (ch4_old_data.index % 12) + 1)\n",
    "\n",
    "ch4_data = pd.merge(ch4_data, ch4_old_data, on=[\"Year\", \"Month\"], how=\"outer\", suffixes=(\"\", \"_y\")).sort_values([\"Year\", \"Month\"])\n",
    "ch4_data[\"CH4\"] = ch4_data[\"CH4\"].fillna(ch4_data[\"CH4_y\"])\n",
    "del ch4_data[\"CH4_y\"]\n",
    "ch4_data = ch4_data.reset_index(drop=True)\n",
    "\n",
    "ch4_data.tail()"
   ]
  },
  {
   "cell_type": "code",
   "execution_count": 5,
   "metadata": {
    "scrolled": true
   },
   "outputs": [
    {
     "data": {
      "text/html": [
       "<div>\n",
       "<style scoped>\n",
       "    .dataframe tbody tr th:only-of-type {\n",
       "        vertical-align: middle;\n",
       "    }\n",
       "\n",
       "    .dataframe tbody tr th {\n",
       "        vertical-align: top;\n",
       "    }\n",
       "\n",
       "    .dataframe thead th {\n",
       "        text-align: right;\n",
       "    }\n",
       "</style>\n",
       "<table border=\"1\" class=\"dataframe\">\n",
       "  <thead>\n",
       "    <tr style=\"text-align: right;\">\n",
       "      <th></th>\n",
       "      <th>Year</th>\n",
       "      <th>Month</th>\n",
       "      <th>Temp</th>\n",
       "      <th>CO2</th>\n",
       "      <th>CH4</th>\n",
       "    </tr>\n",
       "  </thead>\n",
       "  <tbody>\n",
       "    <tr>\n",
       "      <th>18224</th>\n",
       "      <td>2018</td>\n",
       "      <td>9</td>\n",
       "      <td>14.76</td>\n",
       "      <td>404.92</td>\n",
       "      <td>1860.4</td>\n",
       "    </tr>\n",
       "    <tr>\n",
       "      <th>18225</th>\n",
       "      <td>2018</td>\n",
       "      <td>10</td>\n",
       "      <td>14.98</td>\n",
       "      <td>406.40</td>\n",
       "      <td>1865.7</td>\n",
       "    </tr>\n",
       "    <tr>\n",
       "      <th>18226</th>\n",
       "      <td>2018</td>\n",
       "      <td>11</td>\n",
       "      <td>14.78</td>\n",
       "      <td>407.88</td>\n",
       "      <td>1866.6</td>\n",
       "    </tr>\n",
       "    <tr>\n",
       "      <th>18227</th>\n",
       "      <td>2018</td>\n",
       "      <td>12</td>\n",
       "      <td>14.89</td>\n",
       "      <td>408.98</td>\n",
       "      <td>1866.8</td>\n",
       "    </tr>\n",
       "    <tr>\n",
       "      <th>18228</th>\n",
       "      <td>2019</td>\n",
       "      <td>1</td>\n",
       "      <td>14.87</td>\n",
       "      <td>409.82</td>\n",
       "      <td>1866.1</td>\n",
       "    </tr>\n",
       "  </tbody>\n",
       "</table>\n",
       "</div>"
      ],
      "text/plain": [
       "       Year  Month   Temp     CO2     CH4\n",
       "18224  2018      9  14.76  404.92  1860.4\n",
       "18225  2018     10  14.98  406.40  1865.7\n",
       "18226  2018     11  14.78  407.88  1866.6\n",
       "18227  2018     12  14.89  408.98  1866.8\n",
       "18228  2019      1  14.87  409.82  1866.1"
      ]
     },
     "execution_count": 5,
     "metadata": {},
     "output_type": "execute_result"
    }
   ],
   "source": [
    "# Merge in CO2 and CH4 data with temperature data\n",
    "dataset = dataset.merge(co2_data, on=[\"Year\", \"Month\"])\n",
    "dataset = dataset.merge(ch4_data, on=[\"Year\", \"Month\"])\n",
    "dataset = dataset.drop_duplicates().reset_index(drop=True)\n",
    "    \n",
    "dataset.tail()"
   ]
  },
  {
   "cell_type": "code",
   "execution_count": 6,
   "metadata": {},
   "outputs": [],
   "source": [
    "train_dataset = dataset.sample(frac=0.8)\n",
    "test_dataset = dataset.drop(train_dataset.index)"
   ]
  },
  {
   "cell_type": "code",
   "execution_count": 7,
   "metadata": {},
   "outputs": [
    {
     "data": {
      "text/html": [
       "<div>\n",
       "<style scoped>\n",
       "    .dataframe tbody tr th:only-of-type {\n",
       "        vertical-align: middle;\n",
       "    }\n",
       "\n",
       "    .dataframe tbody tr th {\n",
       "        vertical-align: top;\n",
       "    }\n",
       "\n",
       "    .dataframe thead th {\n",
       "        text-align: right;\n",
       "    }\n",
       "</style>\n",
       "<table border=\"1\" class=\"dataframe\">\n",
       "  <thead>\n",
       "    <tr style=\"text-align: right;\">\n",
       "      <th></th>\n",
       "      <th>count</th>\n",
       "      <th>mean</th>\n",
       "      <th>std</th>\n",
       "      <th>min</th>\n",
       "      <th>25%</th>\n",
       "      <th>50%</th>\n",
       "      <th>75%</th>\n",
       "      <th>max</th>\n",
       "    </tr>\n",
       "  </thead>\n",
       "  <tbody>\n",
       "    <tr>\n",
       "      <th>Year</th>\n",
       "      <td>14583.0</td>\n",
       "      <td>1258.748200</td>\n",
       "      <td>438.165149</td>\n",
       "      <td>500.00</td>\n",
       "      <td>879.000</td>\n",
       "      <td>1258.00</td>\n",
       "      <td>1637.000</td>\n",
       "      <td>2018.00</td>\n",
       "    </tr>\n",
       "    <tr>\n",
       "      <th>Month</th>\n",
       "      <td>14583.0</td>\n",
       "      <td>6.484125</td>\n",
       "      <td>3.448825</td>\n",
       "      <td>1.00</td>\n",
       "      <td>3.000</td>\n",
       "      <td>6.00</td>\n",
       "      <td>9.000</td>\n",
       "      <td>12.00</td>\n",
       "    </tr>\n",
       "    <tr>\n",
       "      <th>CO2</th>\n",
       "      <td>14583.0</td>\n",
       "      <td>284.181512</td>\n",
       "      <td>16.022250</td>\n",
       "      <td>271.93</td>\n",
       "      <td>278.508</td>\n",
       "      <td>279.88</td>\n",
       "      <td>283.106</td>\n",
       "      <td>408.98</td>\n",
       "    </tr>\n",
       "    <tr>\n",
       "      <th>CH4</th>\n",
       "      <td>14583.0</td>\n",
       "      <td>726.270054</td>\n",
       "      <td>195.001045</td>\n",
       "      <td>633.60</td>\n",
       "      <td>655.200</td>\n",
       "      <td>675.10</td>\n",
       "      <td>691.100</td>\n",
       "      <td>1866.80</td>\n",
       "    </tr>\n",
       "  </tbody>\n",
       "</table>\n",
       "</div>"
      ],
      "text/plain": [
       "         count         mean         std     min      25%      50%       75%  \\\n",
       "Year   14583.0  1258.748200  438.165149  500.00  879.000  1258.00  1637.000   \n",
       "Month  14583.0     6.484125    3.448825    1.00    3.000     6.00     9.000   \n",
       "CO2    14583.0   284.181512   16.022250  271.93  278.508   279.88   283.106   \n",
       "CH4    14583.0   726.270054  195.001045  633.60  655.200   675.10   691.100   \n",
       "\n",
       "           max  \n",
       "Year   2018.00  \n",
       "Month    12.00  \n",
       "CO2     408.98  \n",
       "CH4    1866.80  "
      ]
     },
     "execution_count": 7,
     "metadata": {},
     "output_type": "execute_result"
    }
   ],
   "source": [
    "train_stats = train_dataset.describe()\n",
    "train_stats.pop(\"Temp\")\n",
    "train_stats = train_stats.transpose()\n",
    "train_stats"
   ]
  },
  {
   "cell_type": "code",
   "execution_count": 8,
   "metadata": {},
   "outputs": [],
   "source": [
    "train_labels = train_dataset.pop(\"Temp\")\n",
    "test_labels = test_dataset.pop(\"Temp\")"
   ]
  },
  {
   "cell_type": "code",
   "execution_count": 9,
   "metadata": {},
   "outputs": [],
   "source": [
    "def norm(x):\n",
    "  return (x - train_stats[\"mean\"]) / train_stats[\"std\"]\n",
    "normed_train_data = norm(train_dataset)\n",
    "normed_test_data = norm(test_dataset)"
   ]
  },
  {
   "cell_type": "code",
   "execution_count": 10,
   "metadata": {},
   "outputs": [],
   "source": [
    "def build_model():\n",
    "  model = keras.Sequential([\n",
    "    keras.layers.Dense(32, activation=tf.nn.relu, input_shape=[len(train_dataset.keys())]),\n",
    "    keras.layers.Dense(32, activation=tf.nn.relu),\n",
    "    keras.layers.Dense(1)\n",
    "  ])\n",
    "\n",
    "  optimizer = tf.keras.optimizers.RMSprop(0.001)\n",
    "\n",
    "  model.compile(loss=\"mean_squared_error\",\n",
    "                optimizer=optimizer,\n",
    "                metrics=[\"mean_absolute_error\", \"mean_squared_error\"])\n",
    "  return model"
   ]
  },
  {
   "cell_type": "code",
   "execution_count": 11,
   "metadata": {},
   "outputs": [
    {
     "name": "stdout",
     "output_type": "stream",
     "text": [
      "WARNING:tensorflow:From C:\\Users\\mmccune\\AppData\\Local\\Continuum\\anaconda3\\lib\\site-packages\\tensorflow\\python\\ops\\resource_variable_ops.py:435: colocate_with (from tensorflow.python.framework.ops) is deprecated and will be removed in a future version.\n",
      "Instructions for updating:\n",
      "Colocations handled automatically by placer.\n",
      "WARNING:tensorflow:From C:\\Users\\mmccune\\AppData\\Local\\Continuum\\anaconda3\\lib\\site-packages\\tensorflow\\python\\keras\\utils\\losses_utils.py:170: to_float (from tensorflow.python.ops.math_ops) is deprecated and will be removed in a future version.\n",
      "Instructions for updating:\n",
      "Use tf.cast instead.\n"
     ]
    }
   ],
   "source": [
    "model = build_model()"
   ]
  },
  {
   "cell_type": "code",
   "execution_count": 12,
   "metadata": {},
   "outputs": [],
   "source": [
    "def plot_history(history):\n",
    "  hist = pd.DataFrame(history.history)\n",
    "  hist['epoch'] = history.epoch\n",
    "  \n",
    "  plt.figure()\n",
    "  plt.xlabel(\"Epoch\")\n",
    "  plt.ylabel(\"MSE [$Temp^2$]\")\n",
    "  plt.plot(hist[\"epoch\"], hist[\"mean_squared_error\"],\n",
    "           label=\"Train Error\")\n",
    "  plt.plot(hist[\"epoch\"], hist[\"val_mean_squared_error\"],\n",
    "           label = \"Val Error\")\n",
    "  plt.ylim([0,2])\n",
    "  plt.legend()\n",
    "  plt.show()"
   ]
  },
  {
   "cell_type": "code",
   "execution_count": 13,
   "metadata": {},
   "outputs": [
    {
     "name": "stdout",
     "output_type": "stream",
     "text": [
      "WARNING:tensorflow:From C:\\Users\\mmccune\\AppData\\Local\\Continuum\\anaconda3\\lib\\site-packages\\tensorflow\\python\\ops\\math_ops.py:3066: to_int32 (from tensorflow.python.ops.math_ops) is deprecated and will be removed in a future version.\n",
      "Instructions for updating:\n",
      "Use tf.cast instead.\n",
      "\n",
      "....................................................................................................\n",
      "....................................................................................................\n",
      "....................................................................................................\n",
      "....................................................................................................\n",
      "....................................................................................................\n",
      "....................................................................................................\n",
      "....................................................................................................\n",
      "....................................................................................................\n",
      "....................................................................................................\n",
      "....................................................................................................\n",
      "...................................................."
     ]
    },
    {
     "data": {
      "image/png": "[encoded data removed]",
      "text/plain": [
       "<Figure size 432x288 with 1 Axes>"
      ]
     },
     "metadata": {
      "needs_background": "light"
     },
     "output_type": "display_data"
    }
   ],
   "source": [
    "class PrintDot(keras.callbacks.Callback):\n",
    "  def on_epoch_end(self, epoch, logs):\n",
    "    if epoch % 100 == 0: print('')\n",
    "    print('.', end='')\n",
    "\n",
    "EPOCHS = 10000\n",
    "\n",
    "model = build_model()\n",
    "\n",
    "early_stop = keras.callbacks.EarlyStopping(monitor=\"val_loss\", patience=100)\n",
    "\n",
    "history = model.fit(normed_train_data, train_labels, epochs=EPOCHS,\n",
    "                    validation_split = 0.2, verbose=0, callbacks=[early_stop, PrintDot()])\n",
    "\n",
    "plot_history(history)"
   ]
  },
  {
   "cell_type": "code",
   "execution_count": 14,
   "metadata": {},
   "outputs": [
    {
     "name": "stdout",
     "output_type": "stream",
     "text": [
      "Testing set Mean Abs Error:  0.06 Temp\n"
     ]
    }
   ],
   "source": [
    "loss, mae, mse = model.evaluate(normed_test_data, test_labels, verbose=0)\n",
    "\n",
    "print(\"Testing set Mean Abs Error: {:5.2f} Temp\".format(mae))"
   ]
  },
  {
   "cell_type": "code",
   "execution_count": 29,
   "metadata": {},
   "outputs": [
    {
     "data": {
      "image/png": "[encoded data removed]",
      "text/plain": [
       "<Figure size 432x288 with 1 Axes>"
      ]
     },
     "metadata": {
      "needs_background": "light"
     },
     "output_type": "display_data"
    }
   ],
   "source": [
    "test_predictions = model.predict(normed_test_data).flatten()\n",
    "\n",
    "plt.scatter(test_labels, test_predictions)\n",
    "plt.xlabel(\"Actual [Temp]\")\n",
    "plt.ylabel(\"Prediction [Temp]\")\n",
    "plt.axis(\"equal\")\n",
    "plt.axis(\"square\")\n",
    "plt.xlim([plt.xlim()[0], plt.xlim()[1]])\n",
    "plt.ylim([plt.ylim()[0], plt.ylim()[1]])\n",
    "_ = plt.plot([-100, 100], [-100, 100])"
   ]
  },
  {
   "cell_type": "code",
   "execution_count": 16,
   "metadata": {},
   "outputs": [
    {
     "data": {
      "image/png": "[encoded data removed]",
      "text/plain": [
       "<Figure size 432x288 with 1 Axes>"
      ]
     },
     "metadata": {
      "needs_background": "light"
     },
     "output_type": "display_data"
    }
   ],
   "source": [
    "error = test_predictions - test_labels\n",
    "plt.hist(error, bins = 25)\n",
    "plt.xlabel(\"Prediction Error [Temp]\")\n",
    "_ = plt.ylabel(\"Count\")"
   ]
  },
  {
   "cell_type": "code",
   "execution_count": 28,
   "metadata": {},
   "outputs": [
    {
     "name": "stdout",
     "output_type": "stream",
     "text": [
      "Predicted: 15.201902 / Actual: 14.94 / Error: 0.2619023895263677\n",
      "Predicted: 15.214384 / Actual: 15.17 / Error: 0.04438407897949226\n"
     ]
    }
   ],
   "source": [
    "future_data_dict = {\n",
    "    \"Year\":  [            2019,             2019],\n",
    "    \"Month\": [               2,                3],\n",
    "    \"Temp\":  [0.94 + BASE_TEMP, 1.17 + BASE_TEMP],\n",
    "    \"CO2\":   [          410.39,           411.04],\n",
    "    \"CH4\":   [          1865.4,           1865.4]\n",
    "}\n",
    "future_data = pd.DataFrame(data=future_data_dict)\n",
    "future_labels = future_data.pop('Temp')\n",
    "normed_future_data = norm(future_data)\n",
    "\n",
    "future_predictions = model.predict(normed_future_data).flatten()\n",
    "\n",
    "for i, future_prediction in enumerate(future_predictions):\n",
    "    future_actual = future_labels[i]\n",
    "    future_error = future_prediction - future_actual\n",
    "    print(\n",
    "        \"Predicted: \" + future_prediction.astype(\"str\") + \n",
    "          \" / Actual: \" + future_actual.astype(\"str\") +\n",
    "          \" / Error: \" + future_error.astype(\"str\")\n",
    "    )"
   ]
  },
  {
   "cell_type": "code",
   "execution_count": null,
   "metadata": {},
   "outputs": [],
   "source": []
  }
 ],
 "metadata": {
  "kernelspec": {
   "display_name": "Python 3",
   "language": "python",
   "name": "python3"
  },
  "language_info": {
   "codemirror_mode": {
    "name": "ipython",
    "version": 3
   },
   "file_extension": ".py",
   "mimetype": "text/x-python",
   "name": "python",
   "nbconvert_exporter": "python",
   "pygments_lexer": "ipython3",
   "version": "3.7.3"
  }
 },
 "nbformat": 4,
 "nbformat_minor": 2
}
